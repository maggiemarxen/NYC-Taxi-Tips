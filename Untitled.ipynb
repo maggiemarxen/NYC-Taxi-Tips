{
 "cells": [
  {
   "cell_type": "code",
   "execution_count": null,
   "metadata": {},
   "outputs": [],
   "source": [
    "import pandas as pd\n",
    "\n",
    "#open file\n",
    "##todo: change to absolute link\n",
    "zonedf = pd.read_csv(r\"C:\\Users\\nick\\Documents\\GitHub\\NYC-Taxi-Tips\\taxi+_zone_lookup.csv\")\n",
    "greendf = pd.read_csv(r\"C:\\Users\\nick\\Documents\\GitHub\\NYC-Taxi-Tips\\green_tripdata_2018-01.csv\")\n",
    "\n",
    "def calculate_cost(fare_amount, extra, mta_tax, tolls_amount, ehail_fee, improvement_surcharge):\n",
    "    return (fare_amount + extra + mta_tax + tolls_amount + ehail_fee + improvement_surcharge)\n",
    "\n",
    "dict = {}\n",
    "\n",
    "zonedf.rename(index={5: 'PULocationID'})\n",
    "\n",
    "zonedf.index.names = ['index']\n",
    "\n",
    "zone_id_dict = {}\n",
    "for (index, row) in zonedf.iterrows():\n",
    "    if (row['Borough']) in zone_id_dict:\n",
    "        zone_id_dict[row['Borough']].append(row['LocationID'])\n",
    "    else:\n",
    "        zone_id_dict[row['Borough']] = [row['LocationID']]\n",
    "        print(zone_id_dict[row['Borough']])\n",
    "        \n",
    "for (index, row) in greendf.iterrows():\n",
    "    if (int(row.loc['PULocationID']), int(row.loc['DOLocationID'])) in dict:\n",
    "        dict[(row['PULocationID'], row['DOLocationID'])].append(calculate_cost(row['fare_amount'], row['extra'], row['mta_tax'], row['tolls_amount'], row['ehail_fee'], row['improvement_surcharge']))\n",
    "    else:\n",
    "        dict[(row['PULocationID'], row['DOLocationID'])] = [calculate_cost(row['fare_amount'], row['extra'], row['mta_tax'], row['tolls_amount'], row['ehail_fee'], row['improvement_surcharge'])]\n",
    "        print([(row['PULocationID'], row['DOLocationID'])])\n",
    "        \n",
    "for k,v in dict.iteritems():\n",
    "    # v is the list of grades for student k\n",
    "    avgDict[k] = sum(v)/ float(len(v))\n",
    "    print(avgDict[k])\n",
    "    \n",
    "print(dict)\n",
    "    "
   ]
  },
  {
   "cell_type": "code",
   "execution_count": null,
   "metadata": {},
   "outputs": [],
   "source": []
  },
  {
   "cell_type": "code",
   "execution_count": null,
   "metadata": {},
   "outputs": [],
   "source": []
  },
  {
   "cell_type": "code",
   "execution_count": null,
   "metadata": {},
   "outputs": [],
   "source": []
  },
  {
   "cell_type": "code",
   "execution_count": null,
   "metadata": {},
   "outputs": [],
   "source": []
  }
 ],
 "metadata": {
  "kernelspec": {
   "display_name": "Python 3",
   "language": "python",
   "name": "python3"
  },
  "language_info": {
   "codemirror_mode": {
    "name": "ipython",
    "version": 3
   },
   "file_extension": ".py",
   "mimetype": "text/x-python",
   "name": "python",
   "nbconvert_exporter": "python",
   "pygments_lexer": "ipython3",
   "version": "3.6.5"
  }
 },
 "nbformat": 4,
 "nbformat_minor": 2
}
